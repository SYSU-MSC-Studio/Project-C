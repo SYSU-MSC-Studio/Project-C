{
 "cells": [
  {
   "cell_type": "markdown",
   "metadata": {},
   "source": [
    "# au文件转换"
   ]
  },
  {
   "cell_type": "code",
   "execution_count": null,
   "metadata": {},
   "outputs": [],
   "source": [
    "import os# 获取目录下的所有文件列表\n",
    "import fnmatch# 文件格式筛选模块，筛选指定格式文件\n",
    "#遍历\n",
    "def dirlist(path, allfile):  \n",
    "    filelist = os.listdir(path)\n",
    "    for filename in filelist:\n",
    "        filepath = os.path.join(path, filename)\n",
    "        if os.path.isdir(filepath):\n",
    "            dirlist(filepath, allfile)\n",
    "        elif fnmatch.fnmatch(filepath,'*.*.au'):#判断文件格式\n",
    "            allfile.append(filepath)\n",
    "            #allfile.append('\\n')\n",
    "            print(filepath,'\\n')\n",
    "    return allfile\n",
    "\n",
    "#格式转换\n",
    "def transform(fileList) :\n",
    "    print('start:')\n",
    "    \n",
    "    readf = open(\"readfilename.txt\", 'w+') #输出所有读入的文件\n",
    "    writef = open(\"writefilename.txt\", 'w+')   #输出所有创建并写入的文件\n",
    "    \n",
    "    code = \"ffmpeg -i \"\n",
    "    codeMid = \" \"\n",
    "    for filename in fileList:\n",
    "        input = filename\n",
    "        print('Begin input = ',input,'\\n')\n",
    "        subname = input.split('.')\n",
    "        output = subname[0] + \".\" + subname[1] + \".wav\"\n",
    "        finishcode = code + input + codeMid + output\n",
    "        os.system(finishcode)\n",
    "        print('End output = ',output,'\\n')\n",
    "        print(input,file=readf)\n",
    "        print(output,file=writef)\n",
    "    print('end')\n"
   ]
  },
  {
   "cell_type": "code",
   "execution_count": null,
   "metadata": {},
   "outputs": [],
   "source": [
    "#训练集格式转换\n",
    "fileDir = r'training_set'\n",
    "allfile = []\n",
    "dirlist(fileDir,allfile)\n",
    "transform(allfile)"
   ]
  },
  {
   "cell_type": "code",
   "execution_count": null,
   "metadata": {},
   "outputs": [],
   "source": [
    "#测试集格式转换\n",
    "fileDir = r'training_set'\n",
    "allfile = []\n",
    "dirlist(fileDir,allfile)\n",
    "transform(allfile)"
   ]
  },
  {
   "cell_type": "markdown",
   "metadata": {},
   "source": [
    "# 写一个segment文件自动生成器"
   ]
  },
  {
   "cell_type": "code",
   "execution_count": null,
   "metadata": {},
   "outputs": [],
   "source": []
  },
  {
   "cell_type": "markdown",
   "metadata": {},
   "source": [
    "# 使用已有的训练模型训练出一个模型"
   ]
  },
  {
   "cell_type": "code",
   "execution_count": null,
   "metadata": {},
   "outputs": [],
   "source": [
    "#encoding = utf-8\n",
    "from pyAudioAnalysis import audioSegmentation as aS\n",
    "\n",
    "#通过文件训练模型\n",
    "aS.trainHMM_fromDir(\"training_set\" , \"hmm_audio_classifier_test\", 1.0, 1.0)"
   ]
  },
  {
   "cell_type": "code",
   "execution_count": null,
   "metadata": {},
   "outputs": [],
   "source": [
    "#测试\n",
    "aS.hmmSegmentation(\"training_set/active.wav\",  \"hmm_audio_classifier_test\", True, \"training_set/active.segments\")"
   ]
  },
  {
   "cell_type": "code",
   "execution_count": null,
   "metadata": {},
   "outputs": [],
   "source": [
    "from pyAudioAnalysis import audioBasicIO\n",
    "from pyAudioAnalysis import audioFeatureExtraction\n",
    "import matplotlib.pyplot as plt\n",
    "from pyAudioAnalysis import audioSegmentation as aS\n",
    "\n",
    "wav_file = \"training_set/audio/cold.wav\"\n",
    "gt_file = \"training_set/ground_truth/cold.segments\"\n",
    "hmm_model_name = \"hmm_audio_classifier_test\"\n",
    "\n",
    "[Fs, x] = audioBasicIO.readAudioFile(wav_file)\n",
    "F, f_names = audioFeatureExtraction.stFeatureExtraction(x, Fs, 0.050*Fs, 0.025*Fs)\n",
    "\n",
    "plt.subplot(2,1,1)\n",
    "plt.plot(F[0,:])\n",
    "plt.xlabel('Frame no')\n",
    "plt.ylabel(f_names[0])\n",
    "\n",
    "plt.subplot(2,1,2)\n",
    "plt.plot(F[1,:])\n",
    "plt.xlabel('Frame no')\n",
    "plt.ylabel(f_names[1])\n",
    "\n",
    "plt.show()"
   ]
  },
  {
   "cell_type": "code",
   "execution_count": null,
   "metadata": {},
   "outputs": [],
   "source": []
  }
 ],
 "metadata": {
  "kernelspec": {
   "display_name": "Python 3",
   "language": "python",
   "name": "python3"
  },
  "language_info": {
   "codemirror_mode": {
    "name": "ipython",
    "version": 3
   },
   "file_extension": ".py",
   "mimetype": "text/x-python",
   "name": "python",
   "nbconvert_exporter": "python",
   "pygments_lexer": "ipython3",
   "version": "3.7.1"
  }
 },
 "nbformat": 4,
 "nbformat_minor": 2
}
