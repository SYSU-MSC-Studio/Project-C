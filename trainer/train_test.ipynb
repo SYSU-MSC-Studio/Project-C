{
 "cells": [
  {
   "cell_type": "markdown",
   "metadata": {},
   "source": [
    "# au文件转换"
   ]
  },
  {
   "cell_type": "code",
   "execution_count": 2,
   "metadata": {},
   "outputs": [],
   "source": [
    "import os# 获取目录下的所有文件列表\n",
    "import fnmatch# 文件格式筛选模块，筛选指定格式文件\n",
    "'''\n",
    "#遍历\n",
    "def dirlist(path, allfile):  \n",
    "    filelist = os.listdir(path)\n",
    "    for filename in filelist:\n",
    "        filepath = os.path.join(path, filename)\n",
    "        if os.path.isdir(filepath):\n",
    "            dirlist(filepath, allfile)\n",
    "        elif fnmatch.fnmatch(filepath,'*.*.au'):#判断文件格式\n",
    "            allfile.append(filepath)\n",
    "            #allfile.append('\\n')\n",
    "            print(filepath,'\\n')\n",
    "    return allfile\n",
    "'''\n",
    "#格式搜索\n",
    "def formatlist(path, allfile, format):  \n",
    "    filelist = os.listdir(path)\n",
    "    for filename in filelist:\n",
    "        filepath = os.path.join(path, filename)\n",
    "        if os.path.isdir(filepath):\n",
    "            formatlist(filepath, allfile, format)\n",
    "        elif fnmatch.fnmatch(filepath,format):#判断文件格式\n",
    "            allfile.append(filepath)\n",
    "            #allfile.append('\\n')\n",
    "            #print(filepath,'\\n')\n",
    "    return allfile\n",
    "\n",
    "#格式转换\n",
    "def transform(fileList) :\n",
    "    print('start:')\n",
    "    \n",
    "    #readf = open(\"tr_in_log.txt\", 'w+') #输出所有读入的文件\n",
    "    #writef = open(\"tr_out_log.txt\", 'w+')   #输出所有创建并写入的文件\n",
    "    \n",
    "    for filename in fileList:\n",
    "        input = filename\n",
    "        #print('Begin input = ',input,'\\n')\n",
    "        subname = input.split('.')\n",
    "        output = subname[0] + \".\" + subname[1] + \".wav\"\n",
    "        finishcode = \"ffmpeg -i \" + input + \" \" + output\n",
    "        os.system(finishcode)\n",
    "        #os.system(\"rm \" + input) #如果能确保转换不出错\n",
    "        #print('End output = ',output,'\\n')\n",
    "        #print(input,file=readf)\n",
    "        #print(output,file=writef)\n",
    "    print('end')\n",
    "\n",
    "#删除\n",
    "def deletelist(fileList) :\n",
    "    print('start:')\n",
    "    \n",
    "    #readf = open(\"dl_log.txt\", 'w+') #输出所有删除的文件名\n",
    "    \n",
    "    for filename in fileList:\n",
    "        input = filename\n",
    "        #print('Begin delete = ',input,'\\n')\n",
    "        os.system(\"rm \" + input)\n",
    "        #print('End\\n')\n",
    "        #print(input,file=readf)\n",
    "    print('end')"
   ]
  },
  {
   "cell_type": "code",
   "execution_count": null,
   "metadata": {},
   "outputs": [],
   "source": [
    "#训练集格式转换\n",
    "fileDir = r'training_set'\n",
    "allfile = []\n",
    "formatlist(fileDir, allfile, '*.*.au')\n",
    "transform(allfile)"
   ]
  },
  {
   "cell_type": "code",
   "execution_count": null,
   "metadata": {},
   "outputs": [],
   "source": [
    "#删除训练集au文件\n",
    "fileDir = r'training_set'\n",
    "allfile = []\n",
    "formatlist(fileDir, allfile, \"*.*.au\")\n",
    "deletelist(allfile)"
   ]
  },
  {
   "cell_type": "code",
   "execution_count": null,
   "metadata": {},
   "outputs": [],
   "source": [
    "#测试集格式转换\n",
    "fileDir = r'test_set'\n",
    "allfile = []\n",
    "formatlist(fileDir,allfile, '*.*.au')\n",
    "transform(allfile)"
   ]
  },
  {
   "cell_type": "code",
   "execution_count": null,
   "metadata": {},
   "outputs": [],
   "source": [
    "#删除测试集au文件\n",
    "fileDir = r'test_set'\n",
    "allfile = []\n",
    "formatlist(fileDir, allfile, \"*.*.au\")\n",
    "deletelist(allfile)"
   ]
  },
  {
   "cell_type": "markdown",
   "metadata": {},
   "source": [
    "# 写一个segment文件自动生成器"
   ]
  },
  {
   "cell_type": "code",
   "execution_count": null,
   "metadata": {},
   "outputs": [],
   "source": [
    "#测试生成指令\n",
    "#os.system(\"echo '0.0,30.0,blue' >> test.txt\");\n",
    "#readf = open(\"test.txt\", 'w+') #输出文件\n",
    "#print(\"0.0,30.0,blue\",file=readf)\n",
    "#os.system(\"delete test.txt\");"
   ]
  },
  {
   "cell_type": "code",
   "execution_count": 3,
   "metadata": {},
   "outputs": [],
   "source": [
    "#生成segment\n",
    "def creator(fileList) :\n",
    "    print('start:')\n",
    "\n",
    "    #readf = open(\"cr_in_log.txt\", 'w+') #输出所有读入的文件\n",
    "    #writef = open(\"cr_out_log.txt\", 'w+')   #输出所有创建并写入的文件\n",
    "    \n",
    "    for filename in fileList:\n",
    "        input = filename\n",
    "        #print('Begin input = ',input,'\\n')\n",
    "        subname = input.split('.')\n",
    "        output = subname[0] + \".\" + subname[1] + \".segments\"\n",
    "        \n",
    "        subname = subname[0].split('/')\n",
    "        subname.reverse()\n",
    "        readf = open(output, 'w+') #输出文件\n",
    "        print(\"0.0,30.0,\" + subname[0],file=readf)\n",
    "        \n",
    "        #print('End output = ',output,'\\n')\n",
    "        #print(input,file=readf)\n",
    "        #print(output,file=writef)\n",
    "    print('end')"
   ]
  },
  {
   "cell_type": "code",
   "execution_count": null,
   "metadata": {},
   "outputs": [],
   "source": [
    "#训练集segments文件生成\n",
    "fileDir = r'training_set'\n",
    "allfile = []\n",
    "formatlist(fileDir, allfile, '*.*.wav')\n",
    "creator(allfile)"
   ]
  },
  {
   "cell_type": "code",
   "execution_count": null,
   "metadata": {},
   "outputs": [],
   "source": [
    "#删除训练集segments文件\n",
    "fileDir = r'training_set'\n",
    "allfile = []\n",
    "formatlist(fileDir, allfile, \"*.*.segments\")\n",
    "deletelist(allfile)"
   ]
  },
  {
   "cell_type": "code",
   "execution_count": null,
   "metadata": {},
   "outputs": [],
   "source": [
    "#测试segments文件生成\n",
    "fileDir = r'test_set'\n",
    "allfile = []\n",
    "formatlist(fileDir,allfile, '*.*.wav')\n",
    "creator(allfile)"
   ]
  },
  {
   "cell_type": "code",
   "execution_count": null,
   "metadata": {},
   "outputs": [],
   "source": [
    "#删除测试集segments文件\n",
    "fileDir = r'test_set'\n",
    "allfile = []\n",
    "formatlist(fileDir, allfile, \"*.*.segments\")\n",
    "deletelist(allfile)"
   ]
  },
  {
   "cell_type": "markdown",
   "metadata": {},
   "source": [
    "# 使用已有的训练模型训练出一个模型"
   ]
  },
  {
   "cell_type": "code",
   "execution_count": 5,
   "metadata": {},
   "outputs": [],
   "source": [
    "#encoding = utf-8\n",
    "from pyAudioAnalysis import audioSegmentation as aS"
   ]
  },
  {
   "cell_type": "code",
   "execution_count": 43,
   "metadata": {
    "scrolled": true
   },
   "outputs": [
    {
     "data": {
      "text/plain": [
       "(GaussianHMM(algorithm='viterbi', covariance_type='diag', covars_prior=0.01,\n",
       "       covars_weight=1, init_params='stmc', means_prior=0, means_weight=0,\n",
       "       min_covar=0.001, n_components=2, n_iter=10, params='stmc',\n",
       "       random_state=None, startprob_prior=1.0, tol=0.01, transmat_prior=1.0,\n",
       "       verbose=False), ['jazz', 'blues'])"
      ]
     },
     "execution_count": 43,
     "metadata": {},
     "output_type": "execute_result"
    }
   ],
   "source": [
    "#通过文件训练模型\n",
    "aS.trainHMM_fromDir(\"training_set\" , \"hmm_audio_classifier_test\", 1.0, 1.0)"
   ]
  },
  {
   "cell_type": "code",
   "execution_count": 9,
   "metadata": {
    "scrolled": true
   },
   "outputs": [
    {
     "data": {
      "text/plain": [
       "(array([0, 0, 0, 0, 0, 0, 0, 0, 0, 0, 0, 0, 0, 0, 0, 0, 0, 0, 0, 0, 0, 0,\n",
       "        0, 0, 0, 0, 0, 0, 0, 0]), ['jazz', 'blues'], -1, -1)"
      ]
     },
     "execution_count": 9,
     "metadata": {},
     "output_type": "execute_result"
    }
   ],
   "source": [
    "#测试\n",
    "aS.hmmSegmentation(\"test_set/blues.00000.wav\",  \"hmm_audio_classifier_test\", False, \"test_set/blues.00000.segments\")"
   ]
  },
  {
   "cell_type": "code",
   "execution_count": null,
   "metadata": {},
   "outputs": [],
   "source": []
  }
 ],
 "metadata": {
  "kernelspec": {
   "display_name": "Python 3",
   "language": "python",
   "name": "python3"
  },
  "language_info": {
   "codemirror_mode": {
    "name": "ipython",
    "version": 3
   },
   "file_extension": ".py",
   "mimetype": "text/x-python",
   "name": "python",
   "nbconvert_exporter": "python",
   "pygments_lexer": "ipython3",
   "version": "3.7.1"
  }
 },
 "nbformat": 4,
 "nbformat_minor": 2
}
